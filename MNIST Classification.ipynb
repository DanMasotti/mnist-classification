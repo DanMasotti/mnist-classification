{
 "cells": [
  {
   "cell_type": "code",
   "execution_count": 1,
   "metadata": {},
   "outputs": [],
   "source": [
    "import tensorflow as tf\n",
    "import numpy as np\n",
    "import matplotlib.pyplot as plt\n",
    "np.random.seed(19)\n",
    "\n",
    "# loading the MNIST data using this neat library\n",
    "from mnist import MNIST\n",
    "data = MNIST('./data')\n",
    "X_train, Y_train = data.load_training()\n",
    "X_test, Y_test = data.load_testing()"
   ]
  },
  {
   "cell_type": "markdown",
   "metadata": {},
   "source": [
    "## Preprocessing"
   ]
  },
  {
   "cell_type": "markdown",
   "metadata": {},
   "source": [
    "Loading the data and encoding the labels using one-hot encoding.  This is so that we make our output from the NN a 10-d vector whose components correspond to a vector whose ith component is the label i"
   ]
  },
  {
   "cell_type": "code",
   "execution_count": 2,
   "metadata": {},
   "outputs": [
    {
     "name": "stdout",
     "output_type": "stream",
     "text": [
      "7\n"
     ]
    }
   ],
   "source": [
    "X_train = np.array(X_train)\n",
    "X_test = np.array(X_test)\n",
    "\n",
    "# Making sure that the values are float so that we can get decimal points after division\n",
    "X_train = X_train.astype('float32')\n",
    "X_test = X_test.astype('float32')\n",
    "\n",
    "# Normalizing\n",
    "X_train = X_train/255\n",
    "X_test = X_test/ 255\n",
    "\n",
    "print(Y_test[0])\n",
    "# one-hot-encoding y so that we can compare probability distributions instead of categories\n",
    "num_classes = 10\n",
    "targets = np.array(np.array(Y_train)).reshape(-1)\n",
    "Y_train = np.eye(num_classes)[targets]\n",
    "\n",
    "targets = np.array(np.array(Y_test)).reshape(-1)\n",
    "Y_test = np.eye(num_classes)[targets]"
   ]
  },
  {
   "cell_type": "code",
   "execution_count": 3,
   "metadata": {},
   "outputs": [
    {
     "name": "stdout",
     "output_type": "stream",
     "text": [
      "[0. 0. 0. 0. 0. 0. 0. 1. 0. 0.]\n"
     ]
    }
   ],
   "source": [
    "print(Y_test[0])"
   ]
  },
  {
   "cell_type": "markdown",
   "metadata": {},
   "source": [
    "# 1"
   ]
  },
  {
   "cell_type": "markdown",
   "metadata": {},
   "source": [
    "## Feed-Forward Neural-Network in NumPy to solve the MNIST Classification problem."
   ]
  },
  {
   "cell_type": "markdown",
   "metadata": {},
   "source": [
    "## Foward Pass"
   ]
  },
  {
   "cell_type": "markdown",
   "metadata": {},
   "source": [
    "First, writing the non-linear activation function, 'sigmoid'."
   ]
  },
  {
   "cell_type": "markdown",
   "metadata": {},
   "source": [
    "$$\n",
    "g(x) = \\frac{1}{1+e^{-x}}\n",
    "$$"
   ]
  },
  {
   "cell_type": "code",
   "execution_count": 4,
   "metadata": {},
   "outputs": [],
   "source": [
    "g = lambda x: 1/(1+np.exp(-x))"
   ]
  },
  {
   "cell_type": "markdown",
   "metadata": {},
   "source": [
    "For the output, we want a probability distribution on labels.  These are called logits.  The way we get this is by 'soft-maxing' the output of the final layer.  This is the generalization of sigmoid activation for multi-class problems.  We subtract the max from the numerator and denominator in the code for numerical stability in the code"
   ]
  },
  {
   "cell_type": "markdown",
   "metadata": {},
   "source": [
    "$$\n",
    "\\text{softmax}(x_i) = \\frac{e^{x_i}}{\\sum_{j=1}^Ne^{x_j}}\n",
    "$$"
   ]
  },
  {
   "cell_type": "code",
   "execution_count": 5,
   "metadata": {},
   "outputs": [],
   "source": [
    "softmax = lambda x: np.exp(x-np.max(x,axis=1,keepdims=True))/ \\\n",
    "                    (np.sum(np.exp(x-np.max(x,axis=1,keepdims=True)),axis=1,keepdims=True))"
   ]
  },
  {
   "cell_type": "markdown",
   "metadata": {},
   "source": [
    "Now we have what we need to create the foward pass algorithm (the neural network), which defines the function approximation, in this case a pmf on labels."
   ]
  },
  {
   "cell_type": "markdown",
   "metadata": {},
   "source": [
    "$$\n",
    "\\hat{p}(x) = \\text{softmax} \\left[ g(g\\left[ g(x)w_1 + b_1\\right] w_2 + b_2)w_3 + b_3 \\right]\n",
    "$$"
   ]
  },
  {
   "cell_type": "markdown",
   "metadata": {},
   "source": [
    "I chose a two hidden layer neural network, because this is the architecture we talked about in class when we wanted to approximate bump functions."
   ]
  },
  {
   "cell_type": "code",
   "execution_count": 6,
   "metadata": {},
   "outputs": [],
   "source": [
    "def foward_pass(X, W1,W2,W3, b1,b2,b3):\n",
    "    # in: feature vector X, current weights and biases\n",
    "    # out: the output from each layer (two hidden layers and an output layer)\n",
    "    \n",
    "    # integrate and fire\n",
    "    L1 = g(np.dot(X, W1) + b1)\n",
    "    \n",
    "    L2 = g(np.dot(L1, W2) + b2)\n",
    "    \n",
    "    # the output pmf\n",
    "    L3 = softmax(np.dot(L2, W3) + b3)\n",
    "    \n",
    "    return L1,L2,L3"
   ]
  },
  {
   "cell_type": "markdown",
   "metadata": {},
   "source": [
    "## Backward Pass"
   ]
  },
  {
   "cell_type": "markdown",
   "metadata": {},
   "source": [
    "Next, defining a cost function (we use this to update the weights in the backpropagation algorithm).  We like to choose a cost function that makes sense with our output units, which live in the space (0,1).  Let's use binary cross entropy which measures the mismatch between our predicted distribution on labels and the true distribution.  This is the standard cost function for this problem and can be motivated by an information theory perspective."
   ]
  },
  {
   "cell_type": "markdown",
   "metadata": {},
   "source": [
    "$$\n",
    "C(w) = H(p,\\hat{p})  = \\frac{-1}{\\text{# samples}}\\sum_{i} p_i \\log \\hat{p}_i(w)\n",
    "$$"
   ]
  },
  {
   "cell_type": "code",
   "execution_count": 7,
   "metadata": {},
   "outputs": [],
   "source": [
    "def cost_fcn(Y_pred, Y_true):\n",
    "    # for numerical stability\n",
    "    eps = np.finfo(float).eps\n",
    "    Y_pred = np.clip(Y_pred, eps, 1. - eps)\n",
    "    cost = - np.mean(np.log(Y_pred) * Y_true) \n",
    "    return cost"
   ]
  },
  {
   "cell_type": "markdown",
   "metadata": {},
   "source": [
    "We also need some additional gradient functions for the updating procedure.  When we actually use g', the input is already the output g from the last layer, so we don't reapply sigmoid."
   ]
  },
  {
   "cell_type": "code",
   "execution_count": 8,
   "metadata": {},
   "outputs": [],
   "source": [
    "g_prime = lambda gx: gx*(1-gx)"
   ]
  },
  {
   "cell_type": "markdown",
   "metadata": {},
   "source": [
    "When you find the update rule (the derivative of the cost with respect to the weights), a lot of things cancel when using binary cross entropy and softmax together.  The following is the gradient for the last output."
   ]
  },
  {
   "cell_type": "code",
   "execution_count": 9,
   "metadata": {},
   "outputs": [],
   "source": [
    "cost_prime = lambda Y_true, Y_pred: (Y_pred-Y_true)/Y_true.shape[0]"
   ]
  },
  {
   "cell_type": "markdown",
   "metadata": {},
   "source": [
    "Now we're ready to define the backpropagation algorithm, which is the way we optimize these weights."
   ]
  },
  {
   "cell_type": "markdown",
   "metadata": {},
   "source": [
    "First note the network:\n",
    "$$\n",
    "l_1 = g(xw_1 + b_1)\\\\\n",
    "l_2 = g(l_1w_2 + b_2)\\\\\n",
    "l_3 = \\text{softmax}(l_2w_3 + b_3)\\\\\n",
    "$$\n",
    "So recursively taking the gradients:\n",
    "$$\n",
    "\\Delta l_3 = \\frac{\\partial C}{\\partial w_3} = l_3 - y _{\\text{true}} \\\\\n",
    "\\Delta l_2 = \\frac{\\partial l_3}{\\partial w_2} = \\Delta l_3 w_3 g'(l_2) \\\\\n",
    "\\Delta l_1 = \\frac{\\partial l_2}{\\partial w_1} = \\Delta l_2 w_2 g'(l_1)\n",
    "$$"
   ]
  },
  {
   "cell_type": "code",
   "execution_count": 10,
   "metadata": {},
   "outputs": [],
   "source": [
    "def backward_pass(X, Y, W1,W2,W3, b1,b2,b3, L1,L2,L3):\n",
    "    # Input: outputs from forward pass\n",
    "    # Output: the updated weights, biases from gradient descent\n",
    "\n",
    "    learning_rate = .5\n",
    "    # computing the partials for the last layer, which is used for the next, and so on\n",
    "    L3_delta = cost_prime(L3, Y)\n",
    "    \n",
    "    #played around with the dots and the transposes until I got the desired dimensions\n",
    "    W3 = W3 + learning_rate * np.dot(L2.T, L3_delta)\n",
    "    b3 = b3 + learning_rate * np.sum(L3_delta, axis = 0, keepdims = True)\n",
    "    \n",
    "    # next down\n",
    "    L2_delta = np.dot(L3_delta, W3.T) * g_prime(L2) \n",
    "    W2 = W2 + learning_rate * np.dot(L1.T, L2_delta)\n",
    "    b2 = b2 + learning_rate * np.sum(L2_delta, axis = 0)\n",
    "    \n",
    "    #first layer\n",
    "    L1_delta = np.dot(L2_delta, W2.T) * g_prime(L1) \n",
    "    W1 = W1 + learning_rate * np.dot(X.T, L1_delta)\n",
    "    b1 = b1 + learning_rate * np.sum(L1_delta, axis = 0)\n",
    "    \n",
    "    return W1,W2,W3, b1,b2,b3"
   ]
  },
  {
   "cell_type": "markdown",
   "metadata": {},
   "source": [
    "## Initializing the Net"
   ]
  },
  {
   "cell_type": "markdown",
   "metadata": {},
   "source": [
    "I chose a random initialization and a hidden size of 128 neurons."
   ]
  },
  {
   "cell_type": "code",
   "execution_count": 11,
   "metadata": {},
   "outputs": [],
   "source": [
    "dim_sz = 128\n",
    "\n",
    "in_sz = X_train.shape[1]\n",
    "out_sz = Y_train.shape[1]\n",
    "\n",
    "W1 = np.random.randn(in_sz, dim_sz)\n",
    "b1 = np.zeros((1, dim_sz))\n",
    "\n",
    "W2 = np.random.randn(dim_sz, dim_sz)\n",
    "b2 = np.zeros((1, dim_sz))\n",
    "\n",
    "W3 = np.random.randn(dim_sz, out_sz)\n",
    "b3 = np.zeros((1, out_sz))"
   ]
  },
  {
   "cell_type": "markdown",
   "metadata": {},
   "source": [
    "## Training"
   ]
  },
  {
   "cell_type": "markdown",
   "metadata": {},
   "source": [
    "Optimizing the weights through gradient descent."
   ]
  },
  {
   "cell_type": "code",
   "execution_count": 12,
   "metadata": {
    "scrolled": true
   },
   "outputs": [
    {
     "name": "stdout",
     "output_type": "stream",
     "text": [
      "epoch = 0 | cost = 0.8429628346288437\n",
      "epoch = 100 | cost = 0.08870297715786424\n",
      "epoch = 200 | cost = 0.06633111300105028\n",
      "epoch = 300 | cost = 0.05643794296255471\n",
      "epoch = 400 | cost = 0.05043641834047603\n",
      "epoch = 500 | cost = 0.04623390500561551\n",
      "epoch = 600 | cost = 0.04304648717000773\n",
      "epoch = 700 | cost = 0.040501588263851765\n",
      "epoch = 800 | cost = 0.03839871869674471\n",
      "epoch = 900 | cost = 0.03661765489057807\n"
     ]
    }
   ],
   "source": [
    "epochs = 1000\n",
    "training = np.zeros(epochs)\n",
    "for epoch in range(epochs):\n",
    "    L1,L2,L3 = foward_pass(X_train, W1,W2,W3, b1,b2,b3)\n",
    "    curr_cost = cost_fcn(L3,Y_train)\n",
    "    if epoch % 100 == 0:\n",
    "        print('epoch = {} | cost = {}'.format(epoch, curr_cost))\n",
    "    training[epoch] = curr_cost\n",
    "    W1,W2,W3, b1,b2,b3 = backward_pass(X_train, Y_train, W1,W2,W3, b1,b2,b3, L1,L2,L3)"
   ]
  },
  {
   "cell_type": "code",
   "execution_count": 13,
   "metadata": {},
   "outputs": [
    {
     "data": {
      "image/png": "[encoded data removed]",
      "text/plain": [
       "<Figure size 432x288 with 1 Axes>"
      ]
     },
     "metadata": {
      "needs_background": "light"
     },
     "output_type": "display_data"
    }
   ],
   "source": [
    "plt.plot(training)\n",
    "plt.xlabel('epochs')\n",
    "plt.ylabel('cross entropy');"
   ]
  },
  {
   "cell_type": "markdown",
   "metadata": {},
   "source": [
    "## Testing"
   ]
  },
  {
   "cell_type": "code",
   "execution_count": 14,
   "metadata": {},
   "outputs": [
    {
     "name": "stdout",
     "output_type": "stream",
     "text": [
      "accuracy on testing data:  88.75\n"
     ]
    }
   ],
   "source": [
    "L1,L2,L3 = foward_pass(X_test, W1,W2,W3, b1,b2,b3)\n",
    "\n",
    "acc = 0\n",
    "for x,y in zip(X_test, Y_test):\n",
    "    L1,L2,L3 = foward_pass(x, W1,W2,W3, b1,b2,b3)\n",
    "    s = L3.argmax()\n",
    "    # if s is the right label, increase accuracy\n",
    "    if s == np.argmax(y):\n",
    "        acc = acc + 1\n",
    "accuracy = acc/len(X_test)*100\n",
    "print(\"accuracy on testing data: \", accuracy)"
   ]
  },
  {
   "cell_type": "markdown",
   "metadata": {},
   "source": [
    "# 2"
   ]
  },
  {
   "cell_type": "markdown",
   "metadata": {},
   "source": [
    "## Convolutional Neural Net in TensorFlow for the MNIST Classification Problem"
   ]
  },
  {
   "cell_type": "code",
   "execution_count": 15,
   "metadata": {},
   "outputs": [],
   "source": [
    "import numpy as np\n",
    "import tensorflow as tf\n",
    "from tensorflow.keras import datasets, layers, models\n",
    "\n",
    "from datetime import datetime\n",
    "import os\n",
    "#visualization library\n",
    "from tensorflow.python.keras.callbacks import TensorBoard\n",
    "\n",
    "tf.random.set_seed(194)"
   ]
  },
  {
   "cell_type": "markdown",
   "metadata": {},
   "source": [
    "## Preprocessing"
   ]
  },
  {
   "cell_type": "code",
   "execution_count": 16,
   "metadata": {},
   "outputs": [],
   "source": [
    "(X_train, Y_train), (X_test, Y_test) = tf.keras.datasets.mnist.load_data()\n",
    "\n",
    "X_train = X_train.reshape(X_train.shape[0], 28, 28, 1)\n",
    "X_test = X_test.reshape(X_test.shape[0], 28, 28, 1)\n",
    "\n",
    "# Making sure that the values are float so that we can get decimal points after division\n",
    "X_train = X_train.astype('float32')\n",
    "X_test = X_test.astype('float32')\n",
    "\n",
    "# Normalizing\n",
    "X_train = X_train/255\n",
    "X_test = X_test/ 255\n",
    "\n",
    "# LeNet-5 accepts 32 by 32 image, so to make it work with the given 28 by 28 image, I pad with zeros\n",
    "X_train = np.pad(X_train,((0,0),(2,2),(2,2),(0,0)),'constant')\n",
    "X_test = np.pad(X_test,((0,0),(2,2),(2,2),(0,0)),'constant')"
   ]
  },
  {
   "cell_type": "markdown",
   "metadata": {},
   "source": [
    "## Forward Pass"
   ]
  },
  {
   "cell_type": "markdown",
   "metadata": {},
   "source": [
    "I chose to use LeCunn's LeNet-5.  It accepts a 32 by 32 pixel image and returns a 10-d vector of values in (0,1) which corresponds to labels.  It consists of two convolutional layers, each of which uses average pooling to downsample and cut the number of parameters down, and two fully connected hidden layers. Tensorflow is Object Oreintated, so I instantiate a model object instead of writing things procedurally as I did before"
   ]
  },
  {
   "cell_type": "markdown",
   "metadata": {},
   "source": [
    "<img src=\"LeNet_Original_Image.jpg\" width=500 height=500 />"
   ]
  },
  {
   "cell_type": "markdown",
   "metadata": {},
   "source": [
    "LeCun et al., 1998"
   ]
  },
  {
   "cell_type": "code",
   "execution_count": 17,
   "metadata": {},
   "outputs": [
    {
     "name": "stdout",
     "output_type": "stream",
     "text": [
      "Model: \"sequential\"\n",
      "_________________________________________________________________\n",
      "Layer (type)                 Output Shape              Param #   \n",
      "=================================================================\n",
      "conv2d (Conv2D)              (None, 30, 30, 6)         60        \n",
      "_________________________________________________________________\n",
      "average_pooling2d (AveragePo (None, 15, 15, 6)         0         \n",
      "_________________________________________________________________\n",
      "conv2d_1 (Conv2D)            (None, 13, 13, 16)        880       \n",
      "_________________________________________________________________\n",
      "average_pooling2d_1 (Average (None, 6, 6, 16)          0         \n",
      "_________________________________________________________________\n",
      "flatten (Flatten)            (None, 576)               0         \n",
      "_________________________________________________________________\n",
      "dense (Dense)                (None, 120)               69240     \n",
      "_________________________________________________________________\n",
      "dense_1 (Dense)              (None, 84)                10164     \n",
      "_________________________________________________________________\n",
      "dense_2 (Dense)              (None, 10)                850       \n",
      "=================================================================\n",
      "Total params: 81,194\n",
      "Trainable params: 81,194\n",
      "Non-trainable params: 0\n",
      "_________________________________________________________________\n"
     ]
    }
   ],
   "source": [
    "# this model keeps track of all the weights and biases under the hood\n",
    "model = models.Sequential()\n",
    "\n",
    "# conv1\n",
    "model.add(layers.Conv2D(filters = 6, kernel_size=(3, 3), activation='relu', input_shape= (32,32,1)))\n",
    "# downsample the image\n",
    "model.add(layers.AveragePooling2D())\n",
    "\n",
    "#conv2 \n",
    "model.add(layers.Conv2D(filters = 16, kernel_size=(3, 3), activation='relu'))\n",
    "# downsample\n",
    "model.add(layers.AveragePooling2D())\n",
    "\n",
    "# just flatten the last tensor into vector\n",
    "model.add(layers.Flatten())\n",
    "\n",
    "# fully connected layers\n",
    "model.add(layers.Dense(units = 120, activation='relu'))\n",
    "\n",
    "model.add(layers.Dense(units = 84, activation='relu'))\n",
    "\n",
    "model.add(layers.Dense(units = 10, activation = 'softmax'))\n",
    "\n",
    "# visualize schematically\n",
    "model.summary()"
   ]
  },
  {
   "cell_type": "markdown",
   "metadata": {},
   "source": [
    "## Backward Pass"
   ]
  },
  {
   "cell_type": "markdown",
   "metadata": {},
   "source": [
    "Compiling the underlying computation graph and optimizing weights via backpropagation with Adam, which is a popular type of Stochastic Gradient Descent algorithm.  (It's Gradient Descent, but updates in batches of samples instead of using all at once, so it's stochastically marching down the loss function.  It also uses other parameters such as momentum).  We're trying to minimize cross entropy again."
   ]
  },
  {
   "cell_type": "code",
   "execution_count": 18,
   "metadata": {},
   "outputs": [],
   "source": [
    "model.compile(optimizer='adam', loss='sparse_categorical_crossentropy', metrics=['accuracy'])"
   ]
  },
  {
   "cell_type": "markdown",
   "metadata": {},
   "source": [
    "Using tensorboard to visualize the loss and accuracy over time"
   ]
  },
  {
   "cell_type": "code",
   "execution_count": 19,
   "metadata": {},
   "outputs": [],
   "source": [
    "logdir = \"logs/scalars/\" + datetime.now().strftime(\"%Y%m%d-%H%M%S\")\n",
    "tensorboard_callback = tf.keras.callbacks.TensorBoard(log_dir=logdir)"
   ]
  },
  {
   "cell_type": "markdown",
   "metadata": {},
   "source": [
    "## Training"
   ]
  },
  {
   "cell_type": "code",
   "execution_count": 20,
   "metadata": {},
   "outputs": [
    {
     "name": "stdout",
     "output_type": "stream",
     "text": [
      "Train on 60000 samples\n",
      "Epoch 1/10\n",
      "60000/60000 [==============================] - 22s 366us/sample - loss: 0.2111 - accuracy: 0.9357\n",
      "Epoch 2/10\n",
      "60000/60000 [==============================] - 21s 345us/sample - loss: 0.0685 - accuracy: 0.9792\n",
      "Epoch 3/10\n",
      "60000/60000 [==============================] - 20s 338us/sample - loss: 0.0491 - accuracy: 0.9847\n",
      "Epoch 4/10\n",
      "60000/60000 [==============================] - 20s 338us/sample - loss: 0.0393 - accuracy: 0.9877\n",
      "Epoch 5/10\n",
      "60000/60000 [==============================] - 21s 356us/sample - loss: 0.0312 - accuracy: 0.9901\n",
      "Epoch 6/10\n",
      "60000/60000 [==============================] - 20s 333us/sample - loss: 0.0249 - accuracy: 0.9922\n",
      "Epoch 7/10\n",
      "60000/60000 [==============================] - 19s 316us/sample - loss: 0.0224 - accuracy: 0.9930\n",
      "Epoch 8/10\n",
      "60000/60000 [==============================] - 19s 319us/sample - loss: 0.0183 - accuracy: 0.9941\n",
      "Epoch 9/10\n",
      "60000/60000 [==============================] - 19s 313us/sample - loss: 0.0160 - accuracy: 0.9948\n",
      "Epoch 10/10\n",
      "60000/60000 [==============================] - 20s 327us/sample - loss: 0.0128 - accuracy: 0.9957\n"
     ]
    },
    {
     "data": {
      "text/plain": [
       "<tensorflow.python.keras.callbacks.History at 0x13909f9e8>"
      ]
     },
     "execution_count": 20,
     "metadata": {},
     "output_type": "execute_result"
    }
   ],
   "source": [
    "model.fit(x = X_train,y = Y_train, epochs=10, callbacks = [tensorboard_callback])"
   ]
  },
  {
   "cell_type": "code",
   "execution_count": 21,
   "metadata": {},
   "outputs": [
    {
     "data": {
      "text/plain": [
       "Reusing TensorBoard on port 6008 (pid 2963), started 0:53:04 ago. (Use '!kill 2963' to kill it.)"
      ]
     },
     "metadata": {},
     "output_type": "display_data"
    },
    {
     "data": {
      "text/html": [
       "\n",
       "      <iframe id=\"tensorboard-frame-86b6164082f76148\" width=\"100%\" height=\"800\" frameborder=\"0\">\n",
       "      </iframe>\n",
       "      <script>\n",
       "        (function() {\n",
       "          const frame = document.getElementById(\"tensorboard-frame-86b6164082f76148\");\n",
       "          const url = new URL(\"/\", window.location);\n",
       "          url.port = 6008;\n",
       "          frame.src = url;\n",
       "        })();\n",
       "      </script>\n",
       "  "
      ],
      "text/plain": [
       "<IPython.core.display.HTML object>"
      ]
     },
     "metadata": {},
     "output_type": "display_data"
    }
   ],
   "source": [
    "%load_ext tensorboard\n",
    "%tensorboard --logdir logs/scalars"
   ]
  },
  {
   "cell_type": "markdown",
   "metadata": {},
   "source": [
    "## Testing"
   ]
  },
  {
   "cell_type": "code",
   "execution_count": 22,
   "metadata": {},
   "outputs": [
    {
     "name": "stdout",
     "output_type": "stream",
     "text": [
      "10000/10000 [==============================] - 2s 177us/sample - loss: 0.0421 - accuracy: 0.9892\n"
     ]
    }
   ],
   "source": [
    "model.evaluate(X_test, Y_test);"
   ]
  },
  {
   "cell_type": "code",
   "execution_count": null,
   "metadata": {},
   "outputs": [],
   "source": []
  }
 ],
 "metadata": {
  "kernelspec": {
   "display_name": "Python 3",
   "language": "python",
   "name": "python3"
  },
  "language_info": {
   "codemirror_mode": {
    "name": "ipython",
    "version": 3
   },
   "file_extension": ".py",
   "mimetype": "text/x-python",
   "name": "python",
   "nbconvert_exporter": "python",
   "pygments_lexer": "ipython3",
   "version": "3.7.3"
  }
 },
 "nbformat": 4,
 "nbformat_minor": 2
}
